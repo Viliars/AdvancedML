{
 "cells": [
  {
   "cell_type": "markdown",
   "id": "e1d913bb-94f9-470c-8906-0508c55d78d7",
   "metadata": {},
   "source": [
    "# MADE, Advanced ML, HomeWork 2"
   ]
  },
  {
   "cell_type": "markdown",
   "id": "15661643-6626-44fd-9c1f-22e58bcbb57a",
   "metadata": {},
   "source": [
    "Импорт нужных библиотек"
   ]
  },
  {
   "cell_type": "code",
   "execution_count": 1,
   "id": "16971a37-e156-4b27-86bf-2301030be842",
   "metadata": {},
   "outputs": [],
   "source": [
    "import numpy as np\n",
    "import pandas as pd\n",
    "from matplotlib import pyplot as plt\n",
    "import scipy.stats as sps\n",
    "from scipy.sparse import csr_matrix\n",
    "from scipy.sparse import hstack, vstack\n",
    "from scipy.special import logit, expit\n",
    "\n",
    "from sklearn.preprocessing import OneHotEncoder\n",
    "from sklearn.linear_model import LogisticRegression, LinearRegression\n",
    "from sklearn.linear_model import Ridge\n",
    "\n",
    "import pickle\n",
    "from copy import deepcopy\n",
    "import torch\n",
    "\n",
    "from tqdm import tqdm\n",
    "\n",
    "import warnings\n",
    "warnings.filterwarnings(\"ignore\")\n",
    "\n",
    "EPS = 1e-5\n",
    "DEFAULT_PROBA = 0.0"
   ]
  },
  {
   "cell_type": "markdown",
   "id": "0442a479-6ddc-4586-bbfb-39623b0a258e",
   "metadata": {},
   "source": [
    "1. Прочитайте и проанализируйте данные, выберите турниры, в которых есть данные о составах команд и повопросных результатах (поле mask в results.pkl). Для унификации предлагаю:\n",
    "взять в тренировочный набор турниры с dateStart из 2019 года; \n",
    "в тестовый — турниры с dateStart из 2020 года.\n"
   ]
  },
  {
   "cell_type": "code",
   "execution_count": 2,
   "id": "5d13b9eb-e8a5-4f1b-b3ce-351a2ab0efa4",
   "metadata": {},
   "outputs": [],
   "source": [
    "tournaments = pickle.load(open(\"chgk/tournaments.pkl\", \"rb\"))\n",
    "results = pickle.load(open(\"chgk/results.pkl\", \"rb\"))\n",
    "players = pickle.load(open(\"chgk/players.pkl\", \"rb\"))"
   ]
  },
  {
   "cell_type": "code",
   "execution_count": 3,
   "id": "a97e5f42-14c9-4da4-bb02-5b9df70f71ba",
   "metadata": {},
   "outputs": [],
   "source": [
    "mask_translator = str.maketrans('-?', '00', 'X')\n",
    "def correct_mask(mask):\n",
    "    return mask.translate(mask_translator)"
   ]
  },
  {
   "cell_type": "code",
   "execution_count": 4,
   "id": "e5fb34d5-f28d-4c7a-9ea4-b50a88f1ecdf",
   "metadata": {},
   "outputs": [
    {
     "name": "stdout",
     "output_type": "stream",
     "text": [
      "Количество турниров для обучающей выборки: 674\n",
      "Количество турниров для тестовой выборки: 173\n"
     ]
    }
   ],
   "source": [
    "train_ids, test_ids = [] , []\n",
    "\n",
    "train_results, test_results = dict(), dict()\n",
    "for tourn_id, tourn_data in results.items():\n",
    "    year = int(tournaments[tourn_id]['dateStart'][:4])\n",
    "    if year not in [2019, 2020]:\n",
    "        continue\n",
    "\n",
    "    if (len(tourn_data) > 0) and ('mask' in tourn_data[0]):\n",
    "        if tourn_data[0]['mask'] is None:\n",
    "            continue\n",
    "\n",
    "    if (len(tourn_data) > 0) and ('teamMembers' in tourn_data[0]):\n",
    "        if tourn_data[0]['teamMembers'] is None:\n",
    "            continue\n",
    "            \n",
    "    if len(tourn_data) < 1 or 'mask' not in tourn_data[0]:\n",
    "        continue\n",
    "        \n",
    "    max_mask = max([len(team['mask'] or '') for team in tourn_data])\n",
    "    current_data = [team for team in tourn_data if len(team['mask'] or '') == max_mask]\n",
    "    \n",
    "    for team in current_data:\n",
    "        team['mask'] = correct_mask(team['mask'])\n",
    "    if year == 2019:\n",
    "        train_ids.append(tourn_id)\n",
    "        train_results[tourn_id] = current_data\n",
    "    else:\n",
    "        test_ids.append(tourn_id)\n",
    "        test_results[tourn_id] = current_data\n",
    "print('Количество турниров для обучающей выборки:', len(train_results))\n",
    "print('Количество турниров для тестовой выборки:',  len(test_results))"
   ]
  },
  {
   "cell_type": "code",
   "execution_count": 5,
   "id": "4d7607f9-86cf-4527-b338-ee02a135663f",
   "metadata": {},
   "outputs": [
    {
     "name": "stdout",
     "output_type": "stream",
     "text": [
      "Количество игроков в обучающем датасете: 57423\n"
     ]
    }
   ],
   "source": [
    "player_ids_train = set()\n",
    "for tourn_id, tourn_data in train_results.items():\n",
    "\n",
    "    for result in tourn_data:\n",
    "        for player in result['teamMembers']:\n",
    "            player_ids_train.add(player['player']['id'])\n",
    "player_ids_train = list(player_ids_train)\n",
    "num_of_players = len(player_ids_train)\n",
    "print('Количество игроков в обучающем датасете:', num_of_players)"
   ]
  },
  {
   "cell_type": "code",
   "execution_count": 7,
   "id": "17be101a-336c-422d-9e64-0223420d0745",
   "metadata": {},
   "outputs": [],
   "source": [
    "def create_dataframe(results, ids):\n",
    "\n",
    "    records = []\n",
    "    for id in ids:\n",
    "        result = results[id]\n",
    "        for team in result:\n",
    "            if 'questionsTotal' not in team:\n",
    "                continue\n",
    "            mask = correct_mask(team['mask'])\n",
    "            for players in team['teamMembers']:\n",
    "                player = players['player']\n",
    "                records.append({\n",
    "                    'tournament_id': id,\n",
    "                    'team_id': team['team']['id'],\n",
    "                    'player_id': player['id'],\n",
    "                    'team_name': team['team']['name'],\n",
    "                    'teamQuestions': team['questionsTotal'],\n",
    "                    'player_name': '{} {} {}'.format(player['surname'], player['name'], player['patronymic']),\n",
    "                    'mask': mask,\n",
    "                    'mask_len': len(mask or '')\n",
    "                })\n",
    "    df = pd.DataFrame.from_records(records)\n",
    "    df = df.merge(df.groupby('tournament_id')['mask_len'].max().rename('max_mask_len'),\n",
    "                  left_on='tournament_id', right_index=True)\n",
    "    df = df[df['mask_len'] == df['max_mask_len']].reset_index(drop=True)\n",
    "    df.drop(['max_mask_len'], axis=1, inplace=True)\n",
    "    return df"
   ]
  },
  {
   "cell_type": "code",
   "execution_count": 8,
   "id": "6165de0a-7e0c-4bb5-b95d-e7175e67b5d8",
   "metadata": {},
   "outputs": [
    {
     "name": "stdout",
     "output_type": "stream",
     "text": [
      "Количество записей обучающей выборки: 414746\n",
      "Количество записей  тестовой выборки: 108394\n"
     ]
    },
    {
     "data": {
      "text/html": [
       "<div>\n",
       "<style scoped>\n",
       "    .dataframe tbody tr th:only-of-type {\n",
       "        vertical-align: middle;\n",
       "    }\n",
       "\n",
       "    .dataframe tbody tr th {\n",
       "        vertical-align: top;\n",
       "    }\n",
       "\n",
       "    .dataframe thead th {\n",
       "        text-align: right;\n",
       "    }\n",
       "</style>\n",
       "<table border=\"1\" class=\"dataframe\">\n",
       "  <thead>\n",
       "    <tr style=\"text-align: right;\">\n",
       "      <th></th>\n",
       "      <th>tournament_id</th>\n",
       "      <th>team_id</th>\n",
       "      <th>player_id</th>\n",
       "      <th>team_name</th>\n",
       "      <th>teamQuestions</th>\n",
       "      <th>player_name</th>\n",
       "      <th>mask</th>\n",
       "      <th>mask_len</th>\n",
       "    </tr>\n",
       "  </thead>\n",
       "  <tbody>\n",
       "    <tr>\n",
       "      <th>0</th>\n",
       "      <td>4772</td>\n",
       "      <td>45556</td>\n",
       "      <td>6212</td>\n",
       "      <td>Рабочее название</td>\n",
       "      <td>28</td>\n",
       "      <td>Выменец Юрий Яковлевич</td>\n",
       "      <td>111111111011111110111111111100010010</td>\n",
       "      <td>36</td>\n",
       "    </tr>\n",
       "    <tr>\n",
       "      <th>1</th>\n",
       "      <td>4772</td>\n",
       "      <td>45556</td>\n",
       "      <td>18332</td>\n",
       "      <td>Рабочее название</td>\n",
       "      <td>28</td>\n",
       "      <td>Либер Александр Витальевич</td>\n",
       "      <td>111111111011111110111111111100010010</td>\n",
       "      <td>36</td>\n",
       "    </tr>\n",
       "    <tr>\n",
       "      <th>2</th>\n",
       "      <td>4772</td>\n",
       "      <td>45556</td>\n",
       "      <td>18036</td>\n",
       "      <td>Рабочее название</td>\n",
       "      <td>28</td>\n",
       "      <td>Левандовский Михаил Ильич</td>\n",
       "      <td>111111111011111110111111111100010010</td>\n",
       "      <td>36</td>\n",
       "    </tr>\n",
       "    <tr>\n",
       "      <th>3</th>\n",
       "      <td>4772</td>\n",
       "      <td>45556</td>\n",
       "      <td>22799</td>\n",
       "      <td>Рабочее название</td>\n",
       "      <td>28</td>\n",
       "      <td>Николенко Сергей Игоревич</td>\n",
       "      <td>111111111011111110111111111100010010</td>\n",
       "      <td>36</td>\n",
       "    </tr>\n",
       "    <tr>\n",
       "      <th>4</th>\n",
       "      <td>4772</td>\n",
       "      <td>45556</td>\n",
       "      <td>15456</td>\n",
       "      <td>Рабочее название</td>\n",
       "      <td>28</td>\n",
       "      <td>Коновалов Сергей Владимирович</td>\n",
       "      <td>111111111011111110111111111100010010</td>\n",
       "      <td>36</td>\n",
       "    </tr>\n",
       "  </tbody>\n",
       "</table>\n",
       "</div>"
      ],
      "text/plain": [
       "   tournament_id  team_id  player_id         team_name  teamQuestions  \\\n",
       "0           4772    45556       6212  Рабочее название             28   \n",
       "1           4772    45556      18332  Рабочее название             28   \n",
       "2           4772    45556      18036  Рабочее название             28   \n",
       "3           4772    45556      22799  Рабочее название             28   \n",
       "4           4772    45556      15456  Рабочее название             28   \n",
       "\n",
       "                     player_name                                  mask  \\\n",
       "0         Выменец Юрий Яковлевич  111111111011111110111111111100010010   \n",
       "1     Либер Александр Витальевич  111111111011111110111111111100010010   \n",
       "2      Левандовский Михаил Ильич  111111111011111110111111111100010010   \n",
       "3      Николенко Сергей Игоревич  111111111011111110111111111100010010   \n",
       "4  Коновалов Сергей Владимирович  111111111011111110111111111100010010   \n",
       "\n",
       "   mask_len  \n",
       "0        36  \n",
       "1        36  \n",
       "2        36  \n",
       "3        36  \n",
       "4        36  "
      ]
     },
     "execution_count": 8,
     "metadata": {},
     "output_type": "execute_result"
    }
   ],
   "source": [
    "train_df = create_dataframe(train_results, train_ids)\n",
    "test_df  = create_dataframe(test_results,  test_ids)\n",
    "print('Количество записей обучающей выборки:', len(train_df))\n",
    "print('Количество записей  тестовой выборки:', len(test_df))\n",
    "train_df.head()"
   ]
  },
  {
   "cell_type": "code",
   "execution_count": 9,
   "id": "f2120a07-0222-4fc5-8963-a7bdab082d67",
   "metadata": {},
   "outputs": [],
   "source": [
    "def create_df_quest_ans(train_results):\n",
    "    df_quest_ans = {'q_idx': [], 't_idx': [], 'p_idx': [], 'ans': []}\n",
    "    for tourn_id, tourn_data in train_results.items():\n",
    "        for result in tourn_data:\n",
    "            for i, ans in enumerate(result['mask']):\n",
    "                q_idx = 10000 * tourn_id + i\n",
    "                for player in result['teamMembers']:\n",
    "                    df_quest_ans['q_idx'].append(q_idx)\n",
    "                    df_quest_ans['t_idx'].append(result['team']['id'])\n",
    "                    df_quest_ans['p_idx'].append(player['player']['id'])\n",
    "                    df_quest_ans['ans'].append(int(ans))\n",
    "    return df_quest_ans\n",
    "\n",
    "df_quest_ans = create_df_quest_ans(train_results)\n",
    "df_quest_ans = pd.DataFrame.from_dict(df_quest_ans)"
   ]
  },
  {
   "cell_type": "code",
   "execution_count": 10,
   "id": "aa9be02b-4635-4493-a7ca-b25d7c924e55",
   "metadata": {},
   "outputs": [
    {
     "name": "stdout",
     "output_type": "stream",
     "text": [
      "Число взаимодействий игроков с вопросами в обучающем датасете: 17751584\n"
     ]
    },
    {
     "data": {
      "text/html": [
       "<div>\n",
       "<style scoped>\n",
       "    .dataframe tbody tr th:only-of-type {\n",
       "        vertical-align: middle;\n",
       "    }\n",
       "\n",
       "    .dataframe tbody tr th {\n",
       "        vertical-align: top;\n",
       "    }\n",
       "\n",
       "    .dataframe thead th {\n",
       "        text-align: right;\n",
       "    }\n",
       "</style>\n",
       "<table border=\"1\" class=\"dataframe\">\n",
       "  <thead>\n",
       "    <tr style=\"text-align: right;\">\n",
       "      <th></th>\n",
       "      <th>q_idx</th>\n",
       "      <th>t_idx</th>\n",
       "      <th>p_idx</th>\n",
       "      <th>ans</th>\n",
       "    </tr>\n",
       "  </thead>\n",
       "  <tbody>\n",
       "    <tr>\n",
       "      <th>0</th>\n",
       "      <td>47720000</td>\n",
       "      <td>45556</td>\n",
       "      <td>6212</td>\n",
       "      <td>1</td>\n",
       "    </tr>\n",
       "    <tr>\n",
       "      <th>1</th>\n",
       "      <td>47720000</td>\n",
       "      <td>45556</td>\n",
       "      <td>18332</td>\n",
       "      <td>1</td>\n",
       "    </tr>\n",
       "    <tr>\n",
       "      <th>2</th>\n",
       "      <td>47720000</td>\n",
       "      <td>45556</td>\n",
       "      <td>18036</td>\n",
       "      <td>1</td>\n",
       "    </tr>\n",
       "    <tr>\n",
       "      <th>3</th>\n",
       "      <td>47720000</td>\n",
       "      <td>45556</td>\n",
       "      <td>22799</td>\n",
       "      <td>1</td>\n",
       "    </tr>\n",
       "    <tr>\n",
       "      <th>4</th>\n",
       "      <td>47720000</td>\n",
       "      <td>45556</td>\n",
       "      <td>15456</td>\n",
       "      <td>1</td>\n",
       "    </tr>\n",
       "  </tbody>\n",
       "</table>\n",
       "</div>"
      ],
      "text/plain": [
       "      q_idx  t_idx  p_idx  ans\n",
       "0  47720000  45556   6212    1\n",
       "1  47720000  45556  18332    1\n",
       "2  47720000  45556  18036    1\n",
       "3  47720000  45556  22799    1\n",
       "4  47720000  45556  15456    1"
      ]
     },
     "execution_count": 10,
     "metadata": {},
     "output_type": "execute_result"
    }
   ],
   "source": [
    "print('Число взаимодействий игроков с вопросами в обучающем датасете:', len(df_quest_ans))\n",
    "df_quest_ans.head()"
   ]
  },
  {
   "cell_type": "markdown",
   "id": "9c3ada6c-6529-44ad-9738-4c3c64acf363",
   "metadata": {},
   "source": [
    "2. Постройте baseline-модель на основе линейной или логистической регрессии, которая будет обучать рейтинг-лист игроков. Замечания и подсказки:\n",
    "\n",
    "    повопросные результаты — это фактически результаты броска монетки, и их предсказание скорее всего имеет отношение к бинарной классификации;\n",
    "\n",
    "    в разных турнирах вопросы совсем разного уровня сложности, поэтому модель должна это учитывать; скорее всего, модель должна будет явно обучать не только силу каждого игрока, но и сложность каждого вопроса;\n",
    "\n",
    "    для baseline-модели можно забыть о командах и считать, что повопросные результаты команды просто относятся к каждому из её игроков.\n"
   ]
  },
  {
   "attachments": {
    "a08e19a1-35c9-4dcf-96f4-a982fb3bb913.png": {
     "image/png": "[encoded data removed]"
    }
   },
   "cell_type": "markdown",
   "id": "b148417a-38db-4d32-a2f1-af95bb782001",
   "metadata": {},
   "source": [
    "### Решение:\n",
    "\n",
    "Будем моделировать с помощью логистической регрессии вероятность того, что игрок  даст правильный ответ ans = 1 на вопрос q:\n",
    "    ![image.png](attachment:a08e19a1-35c9-4dcf-96f4-a982fb3bb913.png)\n",
    "\n",
    "При этом используем условие, что результаты ответа команды можно отнести к результату каждого из игроков.\n",
    "После завершения обучения i-я компонента вектора весов  будет содержать значение, соответствующее \"силе\" i-го игрока. Будем это значение интерпретировать как рейтинг. Аналогично, j-я компонента вектора весов  будет интерпретироваться как \"сложность\" j-го вопроса.."
   ]
  },
  {
   "cell_type": "code",
   "execution_count": 11,
   "id": "4d31080b-39ae-455a-acea-d160a3e968a4",
   "metadata": {},
   "outputs": [
    {
     "name": "stdout",
     "output_type": "stream",
     "text": [
      "(17751584, 90656)\n"
     ]
    }
   ],
   "source": [
    "players_enc = OneHotEncoder()\n",
    "questions_enc = OneHotEncoder()\n",
    "\n",
    "X = hstack((players_enc.fit_transform(df_quest_ans['p_idx'].values.reshape(-1,1)), \n",
    "            questions_enc.fit_transform(df_quest_ans['q_idx'].values.reshape(-1,1))))\n",
    "print(X.shape)"
   ]
  },
  {
   "cell_type": "code",
   "execution_count": 12,
   "id": "e0998233-3785-4db9-a951-46939e0548c2",
   "metadata": {},
   "outputs": [
    {
     "data": {
      "text/plain": [
       "0.7711515772338964"
      ]
     },
     "execution_count": 12,
     "metadata": {},
     "output_type": "execute_result"
    }
   ],
   "source": [
    "clf = LogisticRegression(random_state = 42, class_weight = 'balanced', solver='liblinear')\n",
    "clf.fit(X, df_quest_ans['ans'])\n",
    "clf.score(X, df_quest_ans['ans'])"
   ]
  },
  {
   "cell_type": "code",
   "execution_count": 16,
   "id": "3f41d68d-6728-4b43-8f64-f831bc01d89e",
   "metadata": {},
   "outputs": [
    {
     "name": "stdout",
     "output_type": "stream",
     "text": [
      "Диапазон изменения рейтингов игроков: -4.234217100522991 4.173462411850544\n",
      "Диапазон изменения сложностей вопросов: -5.824411479020789 6.11775957096904\n"
     ]
    }
   ],
   "source": [
    "w0 = clf.intercept_\n",
    "p_weights = clf.coef_[0, :num_of_players]\n",
    "q_weights = clf.coef_[0, num_of_players:]\n",
    "print('Диапазон изменения рейтингов игроков:', p_weights.min(), p_weights.max())\n",
    "print('Диапазон изменения сложностей вопросов:', q_weights.min(), q_weights.max())"
   ]
  },
  {
   "cell_type": "code",
   "execution_count": 17,
   "id": "874c170a-ef37-4e1d-9757-dedf8e61630e",
   "metadata": {},
   "outputs": [],
   "source": [
    "def from_weights_idx_to_player_idx(ind):\n",
    "    o_h_vect = np.zeros((len(ind), num_of_players))\n",
    "    for i in range(len(ind)):\n",
    "        o_h_vect[i, ind[i]] = 1\n",
    "    return players_enc.inverse_transform(o_h_vect).reshape(-1)"
   ]
  },
  {
   "cell_type": "code",
   "execution_count": 18,
   "id": "0e437ea4-5de1-4c90-a398-010911945354",
   "metadata": {},
   "outputs": [],
   "source": [
    "def from_weights_idx_to_question_idx(ind):\n",
    "    o_h_vect = np.zeros((len(ind), len(q_weights)))\n",
    "    for i in range(len(ind)):\n",
    "        o_h_vect[i, ind[i]] = 1\n",
    "    return questions_enc.inverse_transform(o_h_vect).reshape(-1)"
   ]
  },
  {
   "cell_type": "markdown",
   "id": "f6aadb4d-e801-4cf5-b307-48be0ecb9734",
   "metadata": {},
   "source": [
    "3. Качество рейтинг-системы оценивается качеством предсказаний результатов турниров. Но сами повопросные результаты наши модели предсказывать вряд ли смогут, ведь неизвестно, насколько сложными окажутся вопросы в будущих турнирах; да и не нужны эти предсказания сами по себе. Поэтому:\n",
    "\n",
    " - предложите способ предсказать результаты нового турнира с известными составами, но неизвестными вопросами, в виде ранжирования команд;\n",
    "\n",
    " - в качестве метрики качества на тестовом наборе давайте считать ранговые корреляции Спирмена и Кендалла (их можно взять в пакете scipy) между реальным ранжированием в результатах турнира и предсказанным моделью, усреднённые по тестовому множеству турниров.\n"
   ]
  },
  {
   "attachments": {
    "27de891d-f19b-472b-92ca-6bf8c4e1eda3.png": {
     "image/png": "[encoded data removed]"
    },
    "fcdae1cc-0235-4834-90f5-6d7413e35227.png": {
     "image/png": "[encoded data removed]"
    }
   },
   "cell_type": "markdown",
   "id": "e66a73bf-b643-4130-9ce7-b394bbaebeba",
   "metadata": {},
   "source": [
    "Для предсказания результатов нового турнира необходимо рассчитать вероятность того, что игрок X ответит на произвольный вопрос. Это можно сделать, воспользовавшись сигмоидой, на вход которой будут подаваться выученные веса смещения w и рейтинг игрока r:\n",
    "        ![image.png](attachment:27de891d-f19b-472b-92ca-6bf8c4e1eda3.png)\n",
    "\n",
    "Вероятность P(T) команды ответить на вопрос равна вероятности того, что хотя бы один из игроков сможет ответить на вопрос:\n",
    "        ![image.png](attachment:fcdae1cc-0235-4834-90f5-6d7413e35227.png)"
   ]
  },
  {
   "cell_type": "code",
   "execution_count": 60,
   "id": "f30a89e6-4aa7-4d9b-a026-bcc4bd5e9671",
   "metadata": {},
   "outputs": [],
   "source": [
    "p_rates = pd.Series(np.zeros(num_of_players, dtype=float), index=player_ids_train)\n",
    "idx = np.asarray(players_enc.transform(p_rates.index.values.reshape(-1, 1)).argmax(axis = 1)).reshape(-1)\n",
    "p_rates[p_rates.index] = 1 / (1 + np.exp(-(w0 + p_weights[idx])))"
   ]
  },
  {
   "cell_type": "code",
   "execution_count": 23,
   "id": "8a188310-8049-4bed-afbc-23b53b5bd699",
   "metadata": {},
   "outputs": [],
   "source": [
    "def calc_team_proba(team, p_rates):\n",
    "    result = 1\n",
    "    for player in team:\n",
    "        if player['player']['id'] in p_rates.index:\n",
    "            p = p_rates[player['player']['id']]\n",
    "        else:\n",
    "            p = DEFAULT_PROBA\n",
    "        result *= (1 - p)\n",
    "    return 1 - result\n",
    "\n",
    "def calc_team_naive(team, p_rates):\n",
    "    result, cnt = 0, 0\n",
    "    for player in team:\n",
    "        if player['player']['id'] in p_rates.index:\n",
    "            p = p_rates[player['player']['id']]\n",
    "        else:\n",
    "            p = DEFAULT_PROBA\n",
    "        result += p\n",
    "        cnt += 1\n",
    "    if cnt == 0: result = 1\n",
    "    else: result /= cnt\n",
    "    return result\n",
    "\n",
    "def calc_corr(test_results, p_rates, func):\n",
    "    spearman_coef = 0\n",
    "    kendall_coef = 0\n",
    "    N = len(test_results)\n",
    "    for tourn_id, tourn_data in test_results.items():\n",
    "        if not 'position' in test_results[tourn_id][0].keys():\n",
    "            continue\n",
    "        ranks_pred = np.zeros(len(test_results[tourn_id]))\n",
    "        ranks_true = np.zeros(len(test_results[tourn_id]))\n",
    "        for i, result in enumerate(test_results[tourn_id]):\n",
    "            ranks_true[i] = result['position']\n",
    "            ranks_pred[i] = func(result['teamMembers'], p_rates)\n",
    "        spearman_coef_curr = sps.spearmanr(ranks_pred, -ranks_true)[0]\n",
    "        kendall_coef_curr  = sps.kendalltau(ranks_pred, -ranks_true)[0]\n",
    "        if not (np.isnan(spearman_coef_curr) or np.isnan(kendall_coef_curr)):\n",
    "            spearman_coef += spearman_coef_curr\n",
    "            kendall_coef += kendall_coef_curr\n",
    "    return spearman_coef / N, kendall_coef / N"
   ]
  },
  {
   "cell_type": "code",
   "execution_count": 24,
   "id": "c74ba542-52b7-46ba-a69e-b8e9f43661ba",
   "metadata": {},
   "outputs": [
    {
     "name": "stdout",
     "output_type": "stream",
     "text": [
      "Средняя корреляция Спирмена test: 0.7896588120295175\n",
      "Средняя корреляция Кендалла test: 0.6348857275849283\n",
      "Средняя корреляция Спирмена test (naive): 0.7756514201156461\n",
      "Средняя корреляция Кендалла test (naive): 0.6191414496241937\n"
     ]
    }
   ],
   "source": [
    "spearman_coef, kendall_coef = calc_corr(test_results, p_rates, calc_team_proba)\n",
    "print('Средняя корреляция Спирмена test:', spearman_coef)\n",
    "print('Средняя корреляция Кендалла test:', kendall_coef)\n",
    "spearman_coef, kendall_coef = calc_corr(test_results, p_rates, calc_team_naive)\n",
    "print('Средняя корреляция Спирмена test (naive):', spearman_coef)\n",
    "print('Средняя корреляция Кендалла test (naive):', kendall_coef)"
   ]
  },
  {
   "cell_type": "code",
   "execution_count": 28,
   "id": "9a0efc8e-f428-459a-ba18-6444119c50c3",
   "metadata": {},
   "outputs": [
    {
     "name": "stdout",
     "output_type": "stream",
     "text": [
      "Лучшие игроки по версии модели baseline и их рейтинги:\n",
      "1. Руссо Максим Михайлович: 4.173462411850544\n",
      "2. Брутер Александра Владимировна: 4.050212846504839\n",
      "3. Семушин Иван Николаевич: 4.006837161600024\n",
      "4. Савченков Михаил Владимирович: 3.913646515365486\n",
      "5. Спешков Сергей Леонидович: 3.8390835235106153\n",
      "6. Сорожкин Артём Сергеевич: 3.834954270236619\n",
      "7. Мереминский Станислав Григорьевич: 3.712790669936492\n",
      "8. Левандовский Михаил Ильич: 3.6656151650166113\n",
      "9. Прокофьева Ирина Сергеевна: 3.6154683604597286\n",
      "10. Николенко Сергей Игоревич: 3.6006887960394165\n"
     ]
    }
   ],
   "source": [
    "TOP = 10\n",
    "best_weights_id = np.argsort(p_weights)[-1:-TOP - 1:-1]\n",
    "best_players_id = from_weights_idx_to_player_idx(best_weights_id)\n",
    "print('Лучшие игроки по версии модели baseline и их рейтинги:')\n",
    "for i in range(len(best_players_id)):\n",
    "    player = players[best_players_id[i]]\n",
    "    weight_id = best_weights_id[i]\n",
    "    print(f\"{i + 1}. {player['surname']} {player['name']} {player['patronymic']}: {p_weights[weight_id]}\")"
   ]
  },
  {
   "cell_type": "markdown",
   "id": "60da34c1-4259-4d9f-90dd-7b4ad39ff309",
   "metadata": {},
   "source": [
    "4. Теперь главное: ЧГК — это всё-таки командная игра. Поэтому:\n",
    "\n",
    "предложите способ учитывать то, что на вопрос отвечают сразу несколько игроков; скорее всего, понадобятся скрытые переменные; не стесняйтесь делать упрощающие предположения, но теперь переменные “игрок X ответил на вопрос Y” при условии данных должны стать зависимыми для игроков одной и той же команды;\n",
    "\n",
    "разработайте EM-схему для обучения этой модели, реализуйте её в коде;\n",
    "\n",
    "обучите несколько итераций, убедитесь, что целевые метрики со временем растут (скорее всего, ненамного, но расти должны), выберите лучшую модель, используя целевые метрики.\n"
   ]
  },
  {
   "cell_type": "markdown",
   "id": "ca16cda2-b9f6-4cc8-8cf5-9ddb9e813105",
   "metadata": {},
   "source": [
    "Решение:\n",
    "\n",
    " - Введем скрытую переменную: правильный ответ игрока z. Теперь, в отличие от бейзлайна, данная величина будет зависеть от результатов команды, в которой человек играет в текущий момент.\n",
    "\n",
    " - Если игрок  правильно ответил на вопрос, тогда и его команда правильно ответила на вопрос. Если команда на вопрос не ответила, тогда и игрок  не смог ответить на вопрос."
   ]
  },
  {
   "cell_type": "code",
   "execution_count": 29,
   "id": "8b9b97e8-cef4-4b81-a2cb-0d2d01d6368d",
   "metadata": {},
   "outputs": [],
   "source": [
    "def em_alg(em_model, p, data, iters = 5):\n",
    "    df_quest_ans = deepcopy(data)\n",
    "    for i in range(iters):\n",
    "        print(f'Итерация ЕМ-алгоритма {i + 1} из {iters}:')\n",
    "\n",
    "        em_model.fit(X, logit(p))\n",
    "        \n",
    "        w0 = em_model.intercept_\n",
    "        p_weights = em_model.coef_[:num_of_players]\n",
    "        q_weights = em_model.coef_[num_of_players:]\n",
    "\n",
    "        p_rates = pd.Series(np.zeros(num_of_players, dtype=float), index=player_ids_train)\n",
    "        idx = np.asarray(players_enc.transform(p_rates.index.values.reshape(-1, 1)).argmax(axis = 1)).reshape(-1)\n",
    "        p_rates[p_rates.index] = 1 / (1 + np.exp(-(w0 + p_weights[idx])))\n",
    "        \n",
    "        spearman_coef, kendall_coef = calc_corr(test_results, p_rates, calc_team_proba)\n",
    "        print('Средняя корреляция Спирмена test:', spearman_coef)\n",
    "        print('Средняя корреляция Кендалла test:', kendall_coef)\n",
    "\n",
    "        p = expit(em_model.predict(X))\n",
    "        df_quest_ans = df_quest_ans[['q_idx', 't_idx', 'p_idx', 'ans']]\n",
    "        df_quest_ans['p'] = p\n",
    "        df_quest_ans['1-p'] = 1 - df_quest_ans['p']\n",
    "        df_quest_ans = df_quest_ans.merge(df_quest_ans.groupby(['q_idx', 't_idx'])['1-p'].prod().rename('z'),\n",
    "                                          left_on=['q_idx', 't_idx'], right_index = True)\n",
    "        df_quest_ans['z'] = df_quest_ans['p'] / (1 - df_quest_ans['z'])\n",
    "        df_quest_ans['z'] = df_quest_ans['z'] * df_quest_ans['ans']\n",
    "        p = np.clip(df_quest_ans['z'], EPS, 1-EPS)\n",
    "   \n",
    "        print()\n",
    "    return w0, p_weights, q_weights"
   ]
  },
  {
   "cell_type": "code",
   "execution_count": 30,
   "id": "bb50db5f-9c2a-4099-8aff-cfebd197556a",
   "metadata": {},
   "outputs": [
    {
     "name": "stdout",
     "output_type": "stream",
     "text": [
      "(17751584, 90656)\n"
     ]
    }
   ],
   "source": [
    "players_enc = OneHotEncoder()\n",
    "questions_enc = OneHotEncoder()\n",
    "X = hstack((players_enc.fit_transform(df_quest_ans['p_idx'].values.reshape(-1,1)), \n",
    "            questions_enc.fit_transform(df_quest_ans['q_idx'].values.reshape(-1,1))))\n",
    "print(X.shape)"
   ]
  },
  {
   "cell_type": "code",
   "execution_count": 31,
   "id": "a3cab017-b9b2-43b1-ae7f-7d29cc038cb3",
   "metadata": {},
   "outputs": [
    {
     "data": {
      "text/plain": [
       "0.7711515772338964"
      ]
     },
     "execution_count": 31,
     "metadata": {},
     "output_type": "execute_result"
    }
   ],
   "source": [
    "clf = LogisticRegression(random_state = 42, class_weight = 'balanced', solver='liblinear')\n",
    "clf.fit(X, df_quest_ans['ans'])\n",
    "clf.score(X, df_quest_ans['ans'])"
   ]
  },
  {
   "cell_type": "code",
   "execution_count": 32,
   "id": "ca5d3fab-1cd5-4f96-aba7-a07889aece02",
   "metadata": {},
   "outputs": [
    {
     "data": {
      "text/plain": [
       "array([9.89484915e-01, 9.90307098e-01, 9.91284623e-01, ...,\n",
       "       1.00000000e-05, 1.00000000e-05, 1.00000000e-05])"
      ]
     },
     "execution_count": 32,
     "metadata": {},
     "output_type": "execute_result"
    }
   ],
   "source": [
    "em_model = LinearRegression()\n",
    "df_quest_ans = df_quest_ans[['q_idx', 't_idx', 'p_idx', 'ans']]\n",
    "\n",
    "initial_p = clf.predict_proba(X)[:, 1] * df_quest_ans['ans'].values\n",
    "initial_p = np.clip(initial_p, EPS, 1-EPS)\n",
    "initial_p"
   ]
  },
  {
   "cell_type": "code",
   "execution_count": 33,
   "id": "aa64b959-abe3-4ae1-8235-78faf3c8ad58",
   "metadata": {},
   "outputs": [
    {
     "name": "stdout",
     "output_type": "stream",
     "text": [
      "Итерация ЕМ-алгоритма 1 из 5:\n",
      "Средняя корреляция Спирмена test: 0.7942024610003388\n",
      "Средняя корреляция Кендалла test: 0.6406717266535726\n",
      "\n",
      "Итерация ЕМ-алгоритма 2 из 5:\n",
      "Средняя корреляция Спирмена test: 0.7999171624060414\n",
      "Средняя корреляция Кендалла test: 0.6464531507199981\n",
      "\n",
      "Итерация ЕМ-алгоритма 3 из 5:\n",
      "Средняя корреляция Спирмена test: 0.8026870474268888\n",
      "Средняя корреляция Кендалла test: 0.6496744224411717\n",
      "\n",
      "Итерация ЕМ-алгоритма 4 из 5:\n",
      "Средняя корреляция Спирмена test: 0.8040096719001942\n",
      "Средняя корреляция Кендалла test: 0.6509222834800521\n",
      "\n",
      "Итерация ЕМ-алгоритма 5 из 5:\n",
      "Средняя корреляция Спирмена test: 0.8043880882233918\n",
      "Средняя корреляция Кендалла test: 0.651574098059334\n",
      "\n"
     ]
    }
   ],
   "source": [
    "#запуск em-алгоритма\n",
    "w0, p_weights, q_weights = em_alg(em_model, initial_p, df_quest_ans, iters = 5)"
   ]
  },
  {
   "cell_type": "code",
   "execution_count": 36,
   "id": "75e716fe-50ea-4c6e-a46d-ee83f93a69cb",
   "metadata": {},
   "outputs": [
    {
     "name": "stdout",
     "output_type": "stream",
     "text": [
      "Диапазон изменения рейтингов игроков после ЕМ-алгоритма: -6.5989234160078505 13.184287059061214\n",
      "Диапазон изменения сложностей вопросов после ЕМ-алгоритма: -8.511846037684007 18.02097932284016\n"
     ]
    }
   ],
   "source": [
    "w0 = em_model.intercept_\n",
    "p_weights = em_model.coef_[:num_of_players]\n",
    "q_weights = em_model.coef_[num_of_players:]\n",
    "print('Диапазон изменения рейтингов игроков после ЕМ-алгоритма:', p_weights.min(), p_weights.max())\n",
    "print('Диапазон изменения сложностей вопросов после ЕМ-алгоритма:', q_weights.min(), q_weights.max())"
   ]
  },
  {
   "cell_type": "markdown",
   "id": "46c423f3-2ac2-4487-8f01-caed82c8c6ee",
   "metadata": {},
   "source": [
    "### Выводы:\n",
    "    \n",
    "    - В ходе итераций ЕМ-алгоритма метрики качества на обучающей выборке возрастали\n",
    "    - По результатам работы ЕМ-алгоритма метрики качества на тестовом датасете улучшились по сравнению с бейзлайном.\n",
    "    - Диапазоны значений рейтингов игроков и сложности вопросов увеличились по сравнению с baseline-моделью.\n"
   ]
  },
  {
   "cell_type": "markdown",
   "id": "4a52c950-dc3b-4649-9d14-c650f74d843b",
   "metadata": {},
   "source": [
    "5. А что там с вопросами? Постройте “рейтинг-лист” турниров по сложности вопросов. Соответствует ли он интуиции (например, на чемпионате мира в целом должны быть сложные вопросы, а на турнирах для школьников — простые)? Если будет интересно: постройте топ сложных и простых вопросов со ссылками на конкретные записи в базе вопросов ЧГК (это чисто техническое дело, тут никакого ML нету)."
   ]
  },
  {
   "cell_type": "code",
   "execution_count": 38,
   "id": "4b444ae6-e7f0-4d21-8b7c-3645eb9179f5",
   "metadata": {},
   "outputs": [],
   "source": [
    "def calc_tourn_diff(results, q_weights):\n",
    "    questions_rating = {'t_id': [],'q_id': [], 'rating': []}\n",
    "    for tourn_id, result in results.items():\n",
    "        cur_rating = [0] * len(result[0]['mask'])\n",
    "        for i in range(len(cur_rating)):\n",
    "            questions_rating['t_id'].append(tourn_id)\n",
    "            questions_rating['q_id'].append(10000 * tourn_id + i)\n",
    "            questions_rating['rating'].append(0)\n",
    "    questions_rating = pd.DataFrame(questions_rating)\n",
    "    questions_rating['rating'] = q_weights\n",
    "    tourn_diff = questions_rating.groupby(['t_id'])[['t_id', 'rating']].mean().reset_index(drop=True)\n",
    "    return tourn_diff.sort_values(by = ['rating'])"
   ]
  },
  {
   "cell_type": "code",
   "execution_count": 39,
   "id": "1314db08-b4d7-4398-8a14-0fbcb17660ed",
   "metadata": {},
   "outputs": [
    {
     "name": "stdout",
     "output_type": "stream",
     "text": [
      "Самые сложные турниры baseline-модели:\n",
      " 1. Чемпионат Санкт-Петербурга. Первая лига\n",
      " 2. Угрюмый Ёрш\n",
      " 3. Синхрон высшей лиги Москвы\n",
      " 4. Первенство правого полушария\n",
      " 5. Воображаемый музей\n",
      " 6. Записки охотника\n",
      " 7. Кубок городов\n",
      " 8. Знание – Сила VI\n",
      " 9. Ускользающая сова\n",
      "10. Чемпионат России\n",
      "\n",
      "Самые простые турниры baseline-модели:\n",
      " 1. (а)Синхрон-lite. Лига старта. Эпизод V\n",
      " 2. (а)Синхрон-lite. Лига старта. Эпизод III\n",
      " 3. (а)Синхрон-lite. Лига старта. Эпизод IX\n",
      " 4. Синхрон Лиги Разума\n",
      " 5. (а)Синхрон-lite. Лига старта. Эпизод VII\n",
      " 6. Школьный Синхрон-lite. Выпуск 2.5\n",
      " 7. (а)Синхрон-lite. Лига старта. Эпизод IV\n",
      " 8. Студенческий чемпионат Калининградской области\n",
      " 9. Школьная лига. I тур.\n",
      "10. Школьная лига\n"
     ]
    }
   ],
   "source": [
    "q_weights = clf.coef_[0, num_of_players:]\n",
    "tournament_diffs = calc_tourn_diff(train_results, q_weights)\n",
    "\n",
    "print('Самые сложные турниры baseline-модели:')\n",
    "for i, tourn_name in enumerate(tournament_diffs['t_id'][:10]):\n",
    "    print(f'{i + 1:2}. {tournaments[tourn_name][\"name\"]}')\n",
    "print()\n",
    "print('Самые простые турниры baseline-модели:')\n",
    "for i, tourn_name in enumerate(tournament_diffs['t_id'][-1:-11:-1]):\n",
    "    print(f'{i + 1:2}. {tournaments[tourn_name][\"name\"]}')"
   ]
  },
  {
   "cell_type": "markdown",
   "id": "05a349e3-bf48-46a1-853f-d8ec754b745f",
   "metadata": {},
   "source": [
    "### Вывод:\n",
    "\n",
    " - Рейтинг-листы ЕМ-модели достаточно хорошо соответствуют интуиции: самые сложные по ее версии турниры - это чемпионаты мира и России. Самые простые - школьные лиги и Синхрон-lite.\n",
    " \n",
    " - ЕМ-модель гораздо лучше выучивает сложности вопросов, чем baseline-модель."
   ]
  },
  {
   "cell_type": "markdown",
   "id": "097f7c82-e9e6-433a-8185-54b59b3717e2",
   "metadata": {},
   "source": [
    "6. Бонус: постройте топ игроков по предсказанной вашей моделью силе игры, а рядом с именами игроков напишите общее число вопросов, которое они сыграли. Скорее всего, вы увидите, что топ занят игроками, которые сыграли совсем мало вопросов, около 100 или даже меньше; если вы поищете их в официальном рейтинге ЧГК, вы увидите, что это какие-то непонятные ноунеймы. В baseline-модели, скорее всего, такой эффект будет гораздо слабее.\n",
    "\n",
    "Это естественное свойство модели: за счёт EM-схемы влияние 1-2 удачно сыгранных турниров будет только усиливаться, потому что неудачных турниров, чтобы его компенсировать, у этих игроков нет. Более того, это не мешает метрикам качества, потому что если эти игроки сыграли всего 1-2 турнира в 2019-м, скорее всего они ничего или очень мало сыграли и в 2020, и их рейтинги никак не влияют на качество тестовых предсказаний. Но для реального рейтинга такое свойство, конечно, было бы крайне нежелательным. Давайте попробуем его исправить:\n",
    "\n",
    " - сначала жёстко: выберите разумную отсечку по числу вопросов, учитывая, что в одном турнире их обычно 30-50;\n",
    "можно ли просто выбросить игроков, которые мало играли, и переобучить модель? почему? предложите, как нужно изменить модель, чтобы не учитывать слишком мало сыгравших, и переобучите модель;\n",
    "\n",
    " - но всё-таки это не слишком хорошее решение: если выбрать маленькую отсечку, будут ноунеймы в топе, а если большую, то получится, что у нового игрока слишком долго не будет рейтинга; скорее всего, никакой “золотой середины” тут не получится;\n",
    "\n",
    " - предложите более концептуальное решение для топа игроков в рейтинг-листе; если получится, реализуйте его на практике (за это уж точно будут серьёзные бонусные баллы).\n"
   ]
  },
  {
   "cell_type": "code",
   "execution_count": 37,
   "id": "5a5fafad-791e-4494-a9e9-4f227f6e3b9b",
   "metadata": {},
   "outputs": [
    {
     "data": {
      "text/html": [
       "<div>\n",
       "<style scoped>\n",
       "    .dataframe tbody tr th:only-of-type {\n",
       "        vertical-align: middle;\n",
       "    }\n",
       "\n",
       "    .dataframe tbody tr th {\n",
       "        vertical-align: top;\n",
       "    }\n",
       "\n",
       "    .dataframe thead th {\n",
       "        text-align: right;\n",
       "    }\n",
       "</style>\n",
       "<table border=\"1\" class=\"dataframe\">\n",
       "  <thead>\n",
       "    <tr style=\"text-align: right;\">\n",
       "      <th></th>\n",
       "      <th>player_id</th>\n",
       "      <th>player_name</th>\n",
       "      <th>num_q</th>\n",
       "      <th>rating</th>\n",
       "    </tr>\n",
       "  </thead>\n",
       "  <tbody>\n",
       "    <tr>\n",
       "      <th>0</th>\n",
       "      <td>38175</td>\n",
       "      <td>Пилипенко Максим Игоревич</td>\n",
       "      <td>36</td>\n",
       "      <td>13.184287</td>\n",
       "    </tr>\n",
       "    <tr>\n",
       "      <th>1</th>\n",
       "      <td>22474</td>\n",
       "      <td>Немец Илья Сергеевич</td>\n",
       "      <td>75</td>\n",
       "      <td>11.832314</td>\n",
       "    </tr>\n",
       "    <tr>\n",
       "      <th>2</th>\n",
       "      <td>199963</td>\n",
       "      <td>Бровченко Елена Борисовна</td>\n",
       "      <td>36</td>\n",
       "      <td>11.521486</td>\n",
       "    </tr>\n",
       "    <tr>\n",
       "      <th>3</th>\n",
       "      <td>14996</td>\n",
       "      <td>Козлова Ольга Александровна</td>\n",
       "      <td>36</td>\n",
       "      <td>10.229846</td>\n",
       "    </tr>\n",
       "    <tr>\n",
       "      <th>4</th>\n",
       "      <td>202410</td>\n",
       "      <td>Подюкова Валентина</td>\n",
       "      <td>36</td>\n",
       "      <td>10.134855</td>\n",
       "    </tr>\n",
       "    <tr>\n",
       "      <th>5</th>\n",
       "      <td>133504</td>\n",
       "      <td>Лебедева София Евгеньевна</td>\n",
       "      <td>36</td>\n",
       "      <td>9.944602</td>\n",
       "    </tr>\n",
       "    <tr>\n",
       "      <th>6</th>\n",
       "      <td>121433</td>\n",
       "      <td>Савенко София Романовна</td>\n",
       "      <td>36</td>\n",
       "      <td>9.816488</td>\n",
       "    </tr>\n",
       "    <tr>\n",
       "      <th>7</th>\n",
       "      <td>212663</td>\n",
       "      <td>Губина Майя Александровна</td>\n",
       "      <td>72</td>\n",
       "      <td>9.724489</td>\n",
       "    </tr>\n",
       "    <tr>\n",
       "      <th>8</th>\n",
       "      <td>4876</td>\n",
       "      <td>Вакуленко Владимир Сергеевич</td>\n",
       "      <td>36</td>\n",
       "      <td>9.447781</td>\n",
       "    </tr>\n",
       "    <tr>\n",
       "      <th>9</th>\n",
       "      <td>123750</td>\n",
       "      <td>Завьялов Сергей Андреевич</td>\n",
       "      <td>36</td>\n",
       "      <td>9.059117</td>\n",
       "    </tr>\n",
       "    <tr>\n",
       "      <th>10</th>\n",
       "      <td>201102</td>\n",
       "      <td>Молчанова Софья Павловна</td>\n",
       "      <td>72</td>\n",
       "      <td>9.050217</td>\n",
       "    </tr>\n",
       "    <tr>\n",
       "      <th>11</th>\n",
       "      <td>33459</td>\n",
       "      <td>Фрайман Феликс</td>\n",
       "      <td>36</td>\n",
       "      <td>8.949104</td>\n",
       "    </tr>\n",
       "    <tr>\n",
       "      <th>12</th>\n",
       "      <td>40411</td>\n",
       "      <td>Кудинов Дмитрий Сергеевич</td>\n",
       "      <td>45</td>\n",
       "      <td>8.888875</td>\n",
       "    </tr>\n",
       "    <tr>\n",
       "      <th>13</th>\n",
       "      <td>212666</td>\n",
       "      <td>Печёнкина Анна Сергеевна</td>\n",
       "      <td>72</td>\n",
       "      <td>8.888003</td>\n",
       "    </tr>\n",
       "    <tr>\n",
       "      <th>14</th>\n",
       "      <td>163668</td>\n",
       "      <td>Титов Георгий Михайлович</td>\n",
       "      <td>36</td>\n",
       "      <td>8.871574</td>\n",
       "    </tr>\n",
       "  </tbody>\n",
       "</table>\n",
       "</div>"
      ],
      "text/plain": [
       "    player_id                   player_name  num_q     rating\n",
       "0       38175     Пилипенко Максим Игоревич     36  13.184287\n",
       "1       22474          Немец Илья Сергеевич     75  11.832314\n",
       "2      199963     Бровченко Елена Борисовна     36  11.521486\n",
       "3       14996   Козлова Ольга Александровна     36  10.229846\n",
       "4      202410           Подюкова Валентина      36  10.134855\n",
       "5      133504     Лебедева София Евгеньевна     36   9.944602\n",
       "6      121433       Савенко София Романовна     36   9.816488\n",
       "7      212663     Губина Майя Александровна     72   9.724489\n",
       "8        4876  Вакуленко Владимир Сергеевич     36   9.447781\n",
       "9      123750     Завьялов Сергей Андреевич     36   9.059117\n",
       "10     201102      Молчанова Софья Павловна     72   9.050217\n",
       "11      33459               Фрайман Феликс      36   8.949104\n",
       "12      40411     Кудинов Дмитрий Сергеевич     45   8.888875\n",
       "13     212666      Печёнкина Анна Сергеевна     72   8.888003\n",
       "14     163668      Титов Георгий Михайлович     36   8.871574"
      ]
     },
     "execution_count": 37,
     "metadata": {},
     "output_type": "execute_result"
    }
   ],
   "source": [
    "def calc_player_rates(train_df, p_weights):\n",
    "    p_rates_em = train_df[['player_id', 'player_name']].drop_duplicates('player_id').reset_index(drop=True).copy()\n",
    "    p_rates_em = p_rates_em.merge(train_df.groupby('player_id')['mask_len'].sum().rename('num_q'),\n",
    "                                  left_on='player_id', right_index=True)\n",
    "    idx = np.asarray(players_enc.transform(p_rates_em['player_id'].values.reshape(-1, 1)).argmax(axis = 1)).reshape(-1)\n",
    "    p_rates_em['rating'] = p_weights[idx]\n",
    "    return p_rates_em.sort_values('rating', ascending=False).reset_index(drop=True)\n",
    "\n",
    "p_rates_em = calc_player_rates(train_df, p_weights)\n",
    "p_rates_em.head(15)"
   ]
  },
  {
   "cell_type": "code",
   "execution_count": 38,
   "id": "03e3255b-7937-4b47-9530-aa714b3a0326",
   "metadata": {},
   "outputs": [
    {
     "data": {
      "text/html": [
       "<div>\n",
       "<style scoped>\n",
       "    .dataframe tbody tr th:only-of-type {\n",
       "        vertical-align: middle;\n",
       "    }\n",
       "\n",
       "    .dataframe tbody tr th {\n",
       "        vertical-align: top;\n",
       "    }\n",
       "\n",
       "    .dataframe thead th {\n",
       "        text-align: right;\n",
       "    }\n",
       "</style>\n",
       "<table border=\"1\" class=\"dataframe\">\n",
       "  <thead>\n",
       "    <tr style=\"text-align: right;\">\n",
       "      <th></th>\n",
       "      <th>player_id</th>\n",
       "      <th>player_name</th>\n",
       "      <th>num_q</th>\n",
       "      <th>rating</th>\n",
       "    </tr>\n",
       "  </thead>\n",
       "  <tbody>\n",
       "    <tr>\n",
       "      <th>0</th>\n",
       "      <td>38175</td>\n",
       "      <td>Пилипенко Максим Игоревич</td>\n",
       "      <td>36</td>\n",
       "      <td>13.184287</td>\n",
       "    </tr>\n",
       "    <tr>\n",
       "      <th>1</th>\n",
       "      <td>22474</td>\n",
       "      <td>Немец Илья Сергеевич</td>\n",
       "      <td>75</td>\n",
       "      <td>11.832314</td>\n",
       "    </tr>\n",
       "    <tr>\n",
       "      <th>2</th>\n",
       "      <td>199963</td>\n",
       "      <td>Бровченко Елена Борисовна</td>\n",
       "      <td>36</td>\n",
       "      <td>11.521486</td>\n",
       "    </tr>\n",
       "    <tr>\n",
       "      <th>3</th>\n",
       "      <td>14996</td>\n",
       "      <td>Козлова Ольга Александровна</td>\n",
       "      <td>36</td>\n",
       "      <td>10.229846</td>\n",
       "    </tr>\n",
       "    <tr>\n",
       "      <th>4</th>\n",
       "      <td>202410</td>\n",
       "      <td>Подюкова Валентина</td>\n",
       "      <td>36</td>\n",
       "      <td>10.134855</td>\n",
       "    </tr>\n",
       "    <tr>\n",
       "      <th>5</th>\n",
       "      <td>133504</td>\n",
       "      <td>Лебедева София Евгеньевна</td>\n",
       "      <td>36</td>\n",
       "      <td>9.944602</td>\n",
       "    </tr>\n",
       "    <tr>\n",
       "      <th>6</th>\n",
       "      <td>121433</td>\n",
       "      <td>Савенко София Романовна</td>\n",
       "      <td>36</td>\n",
       "      <td>9.816488</td>\n",
       "    </tr>\n",
       "    <tr>\n",
       "      <th>7</th>\n",
       "      <td>212663</td>\n",
       "      <td>Губина Майя Александровна</td>\n",
       "      <td>72</td>\n",
       "      <td>9.724489</td>\n",
       "    </tr>\n",
       "    <tr>\n",
       "      <th>8</th>\n",
       "      <td>4876</td>\n",
       "      <td>Вакуленко Владимир Сергеевич</td>\n",
       "      <td>36</td>\n",
       "      <td>9.447781</td>\n",
       "    </tr>\n",
       "    <tr>\n",
       "      <th>9</th>\n",
       "      <td>123750</td>\n",
       "      <td>Завьялов Сергей Андреевич</td>\n",
       "      <td>36</td>\n",
       "      <td>9.059117</td>\n",
       "    </tr>\n",
       "    <tr>\n",
       "      <th>10</th>\n",
       "      <td>201102</td>\n",
       "      <td>Молчанова Софья Павловна</td>\n",
       "      <td>72</td>\n",
       "      <td>9.050217</td>\n",
       "    </tr>\n",
       "    <tr>\n",
       "      <th>11</th>\n",
       "      <td>33459</td>\n",
       "      <td>Фрайман Феликс</td>\n",
       "      <td>36</td>\n",
       "      <td>8.949104</td>\n",
       "    </tr>\n",
       "    <tr>\n",
       "      <th>12</th>\n",
       "      <td>40411</td>\n",
       "      <td>Кудинов Дмитрий Сергеевич</td>\n",
       "      <td>45</td>\n",
       "      <td>8.888875</td>\n",
       "    </tr>\n",
       "    <tr>\n",
       "      <th>13</th>\n",
       "      <td>212666</td>\n",
       "      <td>Печёнкина Анна Сергеевна</td>\n",
       "      <td>72</td>\n",
       "      <td>8.888003</td>\n",
       "    </tr>\n",
       "    <tr>\n",
       "      <th>14</th>\n",
       "      <td>163668</td>\n",
       "      <td>Титов Георгий Михайлович</td>\n",
       "      <td>36</td>\n",
       "      <td>8.871574</td>\n",
       "    </tr>\n",
       "  </tbody>\n",
       "</table>\n",
       "</div>"
      ],
      "text/plain": [
       "    player_id                   player_name  num_q     rating\n",
       "0       38175     Пилипенко Максим Игоревич     36  13.184287\n",
       "1       22474          Немец Илья Сергеевич     75  11.832314\n",
       "2      199963     Бровченко Елена Борисовна     36  11.521486\n",
       "3       14996   Козлова Ольга Александровна     36  10.229846\n",
       "4      202410           Подюкова Валентина      36  10.134855\n",
       "5      133504     Лебедева София Евгеньевна     36   9.944602\n",
       "6      121433       Савенко София Романовна     36   9.816488\n",
       "7      212663     Губина Майя Александровна     72   9.724489\n",
       "8        4876  Вакуленко Владимир Сергеевич     36   9.447781\n",
       "9      123750     Завьялов Сергей Андреевич     36   9.059117\n",
       "10     201102      Молчанова Софья Павловна     72   9.050217\n",
       "11      33459               Фрайман Феликс      36   8.949104\n",
       "12      40411     Кудинов Дмитрий Сергеевич     45   8.888875\n",
       "13     212666      Печёнкина Анна Сергеевна     72   8.888003\n",
       "14     163668      Титов Георгий Михайлович     36   8.871574"
      ]
     },
     "execution_count": 38,
     "metadata": {},
     "output_type": "execute_result"
    }
   ],
   "source": [
    "p_rates_em.sort_values('rating', ascending=False).reset_index(drop=True).head(15)"
   ]
  },
  {
   "cell_type": "code",
   "execution_count": 39,
   "id": "33378d03-9e59-4ac1-8f1e-5dac1944e347",
   "metadata": {},
   "outputs": [
    {
     "data": {
      "text/html": [
       "<div>\n",
       "<style scoped>\n",
       "    .dataframe tbody tr th:only-of-type {\n",
       "        vertical-align: middle;\n",
       "    }\n",
       "\n",
       "    .dataframe tbody tr th {\n",
       "        vertical-align: top;\n",
       "    }\n",
       "\n",
       "    .dataframe thead th {\n",
       "        text-align: right;\n",
       "    }\n",
       "</style>\n",
       "<table border=\"1\" class=\"dataframe\">\n",
       "  <thead>\n",
       "    <tr style=\"text-align: right;\">\n",
       "      <th></th>\n",
       "      <th>player_id</th>\n",
       "      <th>player_name</th>\n",
       "      <th>num_q</th>\n",
       "      <th>rating</th>\n",
       "    </tr>\n",
       "  </thead>\n",
       "  <tbody>\n",
       "    <tr>\n",
       "      <th>0</th>\n",
       "      <td>27403</td>\n",
       "      <td>Руссо Максим Михайлович</td>\n",
       "      <td>2178</td>\n",
       "      <td>8.339926</td>\n",
       "    </tr>\n",
       "    <tr>\n",
       "      <th>1</th>\n",
       "      <td>7008</td>\n",
       "      <td>Гилёв Алексей Владимирович</td>\n",
       "      <td>4450</td>\n",
       "      <td>7.904306</td>\n",
       "    </tr>\n",
       "    <tr>\n",
       "      <th>2</th>\n",
       "      <td>4270</td>\n",
       "      <td>Брутер Александра Владимировна</td>\n",
       "      <td>2692</td>\n",
       "      <td>7.884845</td>\n",
       "    </tr>\n",
       "    <tr>\n",
       "      <th>3</th>\n",
       "      <td>28751</td>\n",
       "      <td>Семушин Иван Николаевич</td>\n",
       "      <td>3774</td>\n",
       "      <td>7.880107</td>\n",
       "    </tr>\n",
       "    <tr>\n",
       "      <th>4</th>\n",
       "      <td>15727</td>\n",
       "      <td>Коробейников Александр Геннадьевич</td>\n",
       "      <td>1401</td>\n",
       "      <td>7.852995</td>\n",
       "    </tr>\n",
       "    <tr>\n",
       "      <th>5</th>\n",
       "      <td>30152</td>\n",
       "      <td>Сорожкин Артём Сергеевич</td>\n",
       "      <td>4849</td>\n",
       "      <td>7.822918</td>\n",
       "    </tr>\n",
       "    <tr>\n",
       "      <th>6</th>\n",
       "      <td>20691</td>\n",
       "      <td>Мереминский Станислав Григорьевич</td>\n",
       "      <td>1584</td>\n",
       "      <td>7.770636</td>\n",
       "    </tr>\n",
       "    <tr>\n",
       "      <th>7</th>\n",
       "      <td>27822</td>\n",
       "      <td>Савченков Михаил Владимирович</td>\n",
       "      <td>3215</td>\n",
       "      <td>7.717139</td>\n",
       "    </tr>\n",
       "    <tr>\n",
       "      <th>8</th>\n",
       "      <td>18332</td>\n",
       "      <td>Либер Александр Витальевич</td>\n",
       "      <td>3789</td>\n",
       "      <td>7.492296</td>\n",
       "    </tr>\n",
       "    <tr>\n",
       "      <th>9</th>\n",
       "      <td>74001</td>\n",
       "      <td>Мокин Игорь Викторович</td>\n",
       "      <td>1176</td>\n",
       "      <td>7.423891</td>\n",
       "    </tr>\n",
       "    <tr>\n",
       "      <th>10</th>\n",
       "      <td>30270</td>\n",
       "      <td>Спешков Сергей Леонидович</td>\n",
       "      <td>3737</td>\n",
       "      <td>7.381423</td>\n",
       "    </tr>\n",
       "    <tr>\n",
       "      <th>11</th>\n",
       "      <td>21698</td>\n",
       "      <td>Мосягин Александр Владимирович</td>\n",
       "      <td>1112</td>\n",
       "      <td>7.340129</td>\n",
       "    </tr>\n",
       "    <tr>\n",
       "      <th>12</th>\n",
       "      <td>19915</td>\n",
       "      <td>Марков Александр Валерьевич</td>\n",
       "      <td>2903</td>\n",
       "      <td>7.299701</td>\n",
       "    </tr>\n",
       "    <tr>\n",
       "      <th>13</th>\n",
       "      <td>18036</td>\n",
       "      <td>Левандовский Михаил Ильич</td>\n",
       "      <td>1457</td>\n",
       "      <td>7.271574</td>\n",
       "    </tr>\n",
       "    <tr>\n",
       "      <th>14</th>\n",
       "      <td>22935</td>\n",
       "      <td>Новиков Илья Сергеевич</td>\n",
       "      <td>1589</td>\n",
       "      <td>7.271310</td>\n",
       "    </tr>\n",
       "    <tr>\n",
       "      <th>15</th>\n",
       "      <td>6212</td>\n",
       "      <td>Выменец Юрий Яковлевич</td>\n",
       "      <td>3308</td>\n",
       "      <td>7.069696</td>\n",
       "    </tr>\n",
       "    <tr>\n",
       "      <th>16</th>\n",
       "      <td>16837</td>\n",
       "      <td>Кудряшова Наталья Алексеевна</td>\n",
       "      <td>2627</td>\n",
       "      <td>7.031616</td>\n",
       "    </tr>\n",
       "    <tr>\n",
       "      <th>17</th>\n",
       "      <td>21487</td>\n",
       "      <td>Моносов Борис Яковлевич</td>\n",
       "      <td>1092</td>\n",
       "      <td>6.968227</td>\n",
       "    </tr>\n",
       "    <tr>\n",
       "      <th>18</th>\n",
       "      <td>23737</td>\n",
       "      <td>Островский Андрей Вячеславович</td>\n",
       "      <td>2612</td>\n",
       "      <td>6.945999</td>\n",
       "    </tr>\n",
       "    <tr>\n",
       "      <th>19</th>\n",
       "      <td>24384</td>\n",
       "      <td>Пашковский Евгений Александрович</td>\n",
       "      <td>1436</td>\n",
       "      <td>6.936181</td>\n",
       "    </tr>\n",
       "  </tbody>\n",
       "</table>\n",
       "</div>"
      ],
      "text/plain": [
       "    player_id                         player_name  num_q    rating\n",
       "0       27403             Руссо Максим Михайлович   2178  8.339926\n",
       "1        7008          Гилёв Алексей Владимирович   4450  7.904306\n",
       "2        4270      Брутер Александра Владимировна   2692  7.884845\n",
       "3       28751             Семушин Иван Николаевич   3774  7.880107\n",
       "4       15727  Коробейников Александр Геннадьевич   1401  7.852995\n",
       "5       30152            Сорожкин Артём Сергеевич   4849  7.822918\n",
       "6       20691   Мереминский Станислав Григорьевич   1584  7.770636\n",
       "7       27822       Савченков Михаил Владимирович   3215  7.717139\n",
       "8       18332          Либер Александр Витальевич   3789  7.492296\n",
       "9       74001              Мокин Игорь Викторович   1176  7.423891\n",
       "10      30270           Спешков Сергей Леонидович   3737  7.381423\n",
       "11      21698      Мосягин Александр Владимирович   1112  7.340129\n",
       "12      19915         Марков Александр Валерьевич   2903  7.299701\n",
       "13      18036           Левандовский Михаил Ильич   1457  7.271574\n",
       "14      22935              Новиков Илья Сергеевич   1589  7.271310\n",
       "15       6212              Выменец Юрий Яковлевич   3308  7.069696\n",
       "16      16837        Кудряшова Наталья Алексеевна   2627  7.031616\n",
       "17      21487             Моносов Борис Яковлевич   1092  6.968227\n",
       "18      23737      Островский Андрей Вячеславович   2612  6.945999\n",
       "19      24384    Пашковский Евгений Александрович   1436  6.936181"
      ]
     },
     "execution_count": 39,
     "metadata": {},
     "output_type": "execute_result"
    }
   ],
   "source": [
    "CUT_OFF = 1000\n",
    "p_rates_em[p_rates_em['num_q'] > CUT_OFF].sort_values('rating', ascending=False).reset_index(drop=True).head(20)"
   ]
  },
  {
   "cell_type": "markdown",
   "id": "dd3b0519-08e0-4521-bc91-53cadd2ec495",
   "metadata": {},
   "source": [
    "С учетом отсечки рейтинг-лист выглядит существенно лучше.\n",
    "Что можно сделать для улучшения системы ранжирования игроков? Рассмотрм несколько вариантов:\n",
    "\n",
    "1. Отбрасывание игроков, сыгравших малое количество вопросов.\n",
    "\n",
    " - Этот вариант не очень хорош по следующим причинам:\n",
    "        а) при отбрасывании вносится смещение в выборку, поскольку ответы игроков зависят от ответов других членов команды;\n",
    "        б) теряется информация об игроках;"
   ]
  },
  {
   "cell_type": "markdown",
   "id": "ad4e3e8f-5fa1-4f34-96f7-bfa3bc079938",
   "metadata": {},
   "source": [
    "2. Сглаживание исходных данных.\n",
    "\n",
    " - Для снижения эффекта влияния 1-2 удачно сыгранных турниров на рейтинг можно для всех игроков ввести некоторое количество (например 100) фиктивных вопросов, на которые никто не ответил правильно.\n",
    "\n",
    "С одной стороны, на сильных игроков это не окажет заметного влияния, с другой стороны не позволит удачливым новичкам набрать высокие баллы."
   ]
  },
  {
   "cell_type": "code",
   "execution_count": 41,
   "id": "2f72b28a-9daa-4c17-917e-d10d7264bf5e",
   "metadata": {},
   "outputs": [],
   "source": [
    "df_quest_ans = create_df_quest_ans(train_results)\n",
    "FICT_QUEST = 100\n",
    "for i in range(FICT_QUEST):\n",
    "    q_idx = i\n",
    "    for player in player_ids_train:\n",
    "        df_quest_ans['q_idx'].append(q_idx)\n",
    "        df_quest_ans['t_idx'].append(0)\n",
    "        df_quest_ans['p_idx'].append(player)\n",
    "        df_quest_ans['ans'].append(0)\n",
    "df_quest_ans = pd.DataFrame.from_dict(df_quest_ans)"
   ]
  },
  {
   "cell_type": "code",
   "execution_count": 44,
   "id": "75817cd1-b541-4ca0-818a-862c587275b2",
   "metadata": {},
   "outputs": [
    {
     "name": "stdout",
     "output_type": "stream",
     "text": [
      "(23493884, 90756)\n"
     ]
    }
   ],
   "source": [
    "questions_enc2 = OneHotEncoder()  \n",
    "X = hstack((players_enc.fit_transform(df_quest_ans['p_idx'].values.reshape(-1,1)), \n",
    "            questions_enc2.fit_transform(df_quest_ans['q_idx'].values.reshape(-1,1))))\n",
    "print(X.shape)"
   ]
  },
  {
   "cell_type": "code",
   "execution_count": 45,
   "id": "6ee79e1d-9145-4113-9fd9-49efffe71d98",
   "metadata": {},
   "outputs": [],
   "source": [
    "em_model_adv = LinearRegression(n_jobs = -1)\n",
    "df_quest_ans = df_quest_ans[['q_idx', 't_idx', 'p_idx', 'ans']]\n",
    "initial_p = df_quest_ans['ans'].values\n",
    "initial_p = np.clip(initial_p, EPS, 1-EPS)"
   ]
  },
  {
   "cell_type": "code",
   "execution_count": 46,
   "id": "29938ad3-a40f-4a73-aeb9-58fa71ab9592",
   "metadata": {},
   "outputs": [
    {
     "name": "stdout",
     "output_type": "stream",
     "text": [
      "Итерация ЕМ-алгоритма 1 из 5:\n",
      "Средняя корреляция Спирмена test: 0.7819719453374\n",
      "Средняя корреляция Кендалла test: 0.6245389564758129\n",
      "\n",
      "Итерация ЕМ-алгоритма 2 из 5:\n",
      "Средняя корреляция Спирмена test: 0.7683986627919993\n",
      "Средняя корреляция Кендалла test: 0.6133830242406773\n",
      "\n",
      "Итерация ЕМ-алгоритма 3 из 5:\n",
      "Средняя корреляция Спирмена test: 0.780141493262929\n",
      "Средняя корреляция Кендалла test: 0.6236889922567882\n",
      "\n",
      "Итерация ЕМ-алгоритма 4 из 5:\n",
      "Средняя корреляция Спирмена test: 0.7848777937706288\n",
      "Средняя корреляция Кендалла test: 0.6293048038657055\n",
      "\n",
      "Итерация ЕМ-алгоритма 5 из 5:\n",
      "Средняя корреляция Спирмена test: 0.7873425292107603\n",
      "Средняя корреляция Кендалла test: 0.6326296993740976\n",
      "\n",
      "CPU times: user 26min 22s, sys: 1h 9min 50s, total: 1h 36min 13s\n",
      "Wall time: 8min 57s\n"
     ]
    }
   ],
   "source": [
    "%%time\n",
    "w0, p_weights, q_weights = em_alg(em_model_adv, initial_p, df_quest_ans, iters = 5)"
   ]
  },
  {
   "cell_type": "code",
   "execution_count": 51,
   "id": "3c7713a2-3d37-47e9-ac59-c2b1422c18f3",
   "metadata": {},
   "outputs": [],
   "source": [
    "def calc_player_rates(train_df, p_weights):\n",
    "    p_rates_em = train_df[['player_id', 'player_name']].drop_duplicates('player_id').reset_index(drop=True).copy()\n",
    "    p_rates_em = p_rates_em.merge(train_df.groupby('player_id')['mask_len'].sum().rename('num_q'),\n",
    "                                  left_on='player_id', right_index=True)\n",
    "    idx = np.asarray(players_enc.transform(p_rates_em['player_id'].values.reshape(-1, 1)).argmax(axis = 1)).reshape(-1)\n",
    "    p_rates_em['rating'] = p_weights[idx]\n",
    "    return p_rates_em.sort_values('rating', ascending=False).reset_index(drop=True)"
   ]
  },
  {
   "cell_type": "code",
   "execution_count": 52,
   "id": "6e7a4df0-867c-43ee-85c2-33ba10abe80c",
   "metadata": {},
   "outputs": [],
   "source": [
    "p_rates_em = calc_player_rates(train_df, p_weights)"
   ]
  },
  {
   "cell_type": "code",
   "execution_count": 53,
   "id": "0d22c653-b230-4faa-b46c-af0a9a29dc4f",
   "metadata": {},
   "outputs": [
    {
     "name": "stdout",
     "output_type": "stream",
     "text": [
      "Диапазон изменения рейтингов игроков после регуляризации: -3.1916888904726473 7.0031285324678425\n",
      "Диапазон изменения сложностей вопросов после регуляризации: -8.456479098924628 19.166487569414453\n"
     ]
    }
   ],
   "source": [
    "print('Диапазон изменения рейтингов игроков после регуляризации:', p_weights.min(), p_weights.max())\n",
    "print('Диапазон изменения сложностей вопросов после регуляризации:', q_weights.min(), q_weights.max())"
   ]
  },
  {
   "cell_type": "code",
   "execution_count": 54,
   "id": "99273cf3-e5e6-4808-ae49-490060d3a227",
   "metadata": {},
   "outputs": [
    {
     "name": "stdout",
     "output_type": "stream",
     "text": [
      "Рейтинг-лист топовых игроков:\n"
     ]
    },
    {
     "data": {
      "text/html": [
       "<div>\n",
       "<style scoped>\n",
       "    .dataframe tbody tr th:only-of-type {\n",
       "        vertical-align: middle;\n",
       "    }\n",
       "\n",
       "    .dataframe tbody tr th {\n",
       "        vertical-align: top;\n",
       "    }\n",
       "\n",
       "    .dataframe thead th {\n",
       "        text-align: right;\n",
       "    }\n",
       "</style>\n",
       "<table border=\"1\" class=\"dataframe\">\n",
       "  <thead>\n",
       "    <tr style=\"text-align: right;\">\n",
       "      <th></th>\n",
       "      <th>player_id</th>\n",
       "      <th>player_name</th>\n",
       "      <th>num_q</th>\n",
       "      <th>rating</th>\n",
       "    </tr>\n",
       "  </thead>\n",
       "  <tbody>\n",
       "    <tr>\n",
       "      <th>0</th>\n",
       "      <td>7008</td>\n",
       "      <td>Гилёв Алексей Владимирович</td>\n",
       "      <td>4450</td>\n",
       "      <td>7.003129</td>\n",
       "    </tr>\n",
       "    <tr>\n",
       "      <th>1</th>\n",
       "      <td>30152</td>\n",
       "      <td>Сорожкин Артём Сергеевич</td>\n",
       "      <td>4849</td>\n",
       "      <td>6.940336</td>\n",
       "    </tr>\n",
       "    <tr>\n",
       "      <th>2</th>\n",
       "      <td>28751</td>\n",
       "      <td>Семушин Иван Николаевич</td>\n",
       "      <td>3774</td>\n",
       "      <td>6.914399</td>\n",
       "    </tr>\n",
       "    <tr>\n",
       "      <th>3</th>\n",
       "      <td>27403</td>\n",
       "      <td>Руссо Максим Михайлович</td>\n",
       "      <td>2178</td>\n",
       "      <td>6.842346</td>\n",
       "    </tr>\n",
       "    <tr>\n",
       "      <th>4</th>\n",
       "      <td>4270</td>\n",
       "      <td>Брутер Александра Владимировна</td>\n",
       "      <td>2692</td>\n",
       "      <td>6.697141</td>\n",
       "    </tr>\n",
       "    <tr>\n",
       "      <th>5</th>\n",
       "      <td>27822</td>\n",
       "      <td>Савченков Михаил Владимирович</td>\n",
       "      <td>3215</td>\n",
       "      <td>6.621990</td>\n",
       "    </tr>\n",
       "    <tr>\n",
       "      <th>6</th>\n",
       "      <td>18332</td>\n",
       "      <td>Либер Александр Витальевич</td>\n",
       "      <td>3789</td>\n",
       "      <td>6.504879</td>\n",
       "    </tr>\n",
       "    <tr>\n",
       "      <th>7</th>\n",
       "      <td>30270</td>\n",
       "      <td>Спешков Сергей Леонидович</td>\n",
       "      <td>3737</td>\n",
       "      <td>6.341980</td>\n",
       "    </tr>\n",
       "    <tr>\n",
       "      <th>8</th>\n",
       "      <td>15727</td>\n",
       "      <td>Коробейников Александр Геннадьевич</td>\n",
       "      <td>1401</td>\n",
       "      <td>6.126164</td>\n",
       "    </tr>\n",
       "    <tr>\n",
       "      <th>9</th>\n",
       "      <td>20691</td>\n",
       "      <td>Мереминский Станислав Григорьевич</td>\n",
       "      <td>1584</td>\n",
       "      <td>6.012046</td>\n",
       "    </tr>\n",
       "    <tr>\n",
       "      <th>10</th>\n",
       "      <td>19915</td>\n",
       "      <td>Марков Александр Валерьевич</td>\n",
       "      <td>2903</td>\n",
       "      <td>6.008884</td>\n",
       "    </tr>\n",
       "    <tr>\n",
       "      <th>11</th>\n",
       "      <td>6212</td>\n",
       "      <td>Выменец Юрий Яковлевич</td>\n",
       "      <td>3308</td>\n",
       "      <td>5.886396</td>\n",
       "    </tr>\n",
       "    <tr>\n",
       "      <th>12</th>\n",
       "      <td>16837</td>\n",
       "      <td>Кудряшова Наталья Алексеевна</td>\n",
       "      <td>2627</td>\n",
       "      <td>5.696949</td>\n",
       "    </tr>\n",
       "    <tr>\n",
       "      <th>13</th>\n",
       "      <td>23737</td>\n",
       "      <td>Островский Андрей Вячеславович</td>\n",
       "      <td>2612</td>\n",
       "      <td>5.680997</td>\n",
       "    </tr>\n",
       "    <tr>\n",
       "      <th>14</th>\n",
       "      <td>22935</td>\n",
       "      <td>Новиков Илья Сергеевич</td>\n",
       "      <td>1589</td>\n",
       "      <td>5.638922</td>\n",
       "    </tr>\n",
       "  </tbody>\n",
       "</table>\n",
       "</div>"
      ],
      "text/plain": [
       "    player_id                         player_name  num_q    rating\n",
       "0        7008          Гилёв Алексей Владимирович   4450  7.003129\n",
       "1       30152            Сорожкин Артём Сергеевич   4849  6.940336\n",
       "2       28751             Семушин Иван Николаевич   3774  6.914399\n",
       "3       27403             Руссо Максим Михайлович   2178  6.842346\n",
       "4        4270      Брутер Александра Владимировна   2692  6.697141\n",
       "5       27822       Савченков Михаил Владимирович   3215  6.621990\n",
       "6       18332          Либер Александр Витальевич   3789  6.504879\n",
       "7       30270           Спешков Сергей Леонидович   3737  6.341980\n",
       "8       15727  Коробейников Александр Геннадьевич   1401  6.126164\n",
       "9       20691   Мереминский Станислав Григорьевич   1584  6.012046\n",
       "10      19915         Марков Александр Валерьевич   2903  6.008884\n",
       "11       6212              Выменец Юрий Яковлевич   3308  5.886396\n",
       "12      16837        Кудряшова Наталья Алексеевна   2627  5.696949\n",
       "13      23737      Островский Андрей Вячеславович   2612  5.680997\n",
       "14      22935              Новиков Илья Сергеевич   1589  5.638922"
      ]
     },
     "execution_count": 54,
     "metadata": {},
     "output_type": "execute_result"
    }
   ],
   "source": [
    "print('Рейтинг-лист топовых игроков:')\n",
    "p_rates_em.head(15)"
   ]
  },
  {
   "cell_type": "markdown",
   "id": "75ccf1d9-b3bc-4b55-af6a-f70dba78303a",
   "metadata": {},
   "source": [
    "7. Бонус: игроки со временем учатся играть лучше (а иногда бывает и наоборот). А в нашей модели получается, что первые неудачные турниры новичка будут тянуть его рейтинг вниз всю жизнь — это нехорошо, рейтинг должен быть достаточно гибким и иметь возможность меняться даже у игроков, отыгравших сотни турниров. Давайте попробуем этого добиться:\n",
    "\n",
    "     - если хватит вычислительных ресурсов, сначала сделайте baseline совсем без таких схем, обучив рейтинги на всех турнирах с повопросными результатами, а не только на турнирах 2019 года; улучшилось ли качество предсказаний на 2020?\n",
    " \n",
    "     - одну схему со временем мы уже использовали: брали для обучения только последний год турниров; примерно так делают, например, в теннисной чемпионской гонке; у этой схемы есть свои преимущества, но есть и недостатки (например, достаточно мало играть год, чтобы полностью пропасть из рейтинга);\n",
    " \n",
    "     - предложите варианты базовой модели или алгоритма её обучения, которые могли бы реализовать изменения рейтинга со временем; если получится, реализуйте их на практике, проверьте, улучшатся ли предсказания на 2020.\n"
   ]
  },
  {
   "cell_type": "code",
   "execution_count": 43,
   "id": "ebab6abe-e6b2-416d-8a7d-6f7072b034a9",
   "metadata": {},
   "outputs": [
    {
     "name": "stdout",
     "output_type": "stream",
     "text": [
      "Количество турниров для обучающей выборки: 3484\n",
      "Количество турниров для тестовой выборки: 173\n"
     ]
    }
   ],
   "source": [
    "train_ids, test_ids = [] , []\n",
    "\n",
    "train_results, test_results = dict(), dict()\n",
    "for tourn_id, tourn_data in results.items():\n",
    "    year = int(tournaments[tourn_id]['dateStart'][:4])\n",
    "    \n",
    "    if year > 2020:\n",
    "        continue\n",
    "    flag1 = False\n",
    "    if (len(tourn_data) > 0) and ('mask' in tourn_data[0]):\n",
    "        if tourn_data[0]['mask'] is not None:\n",
    "            flag1 = True\n",
    "    flag2 = False\n",
    "    if (len(tourn_data) > 0) and ('teamMembers' in tourn_data[0]):\n",
    "        if tourn_data[0]['teamMembers'] is not None:\n",
    "            flag2 = True\n",
    "    if not (flag1 and flag2):\n",
    "        continue\n",
    "   \n",
    "    max_mask = max([len(team['mask'] or '') for team in tourn_data])\n",
    "    current_data = [team for team in tourn_data if len(team['mask'] or '') == max_mask]\n",
    "    for team in current_data:\n",
    "        team['mask'] = correct_mask(team['mask'])\n",
    "    if year == 2020:\n",
    "        test_ids.append(tourn_id)\n",
    "        test_results[tourn_id] = current_data\n",
    "    else:\n",
    "        train_ids.append(tourn_id)\n",
    "        train_results[tourn_id] = current_data\n",
    "        \n",
    "print('Количество турниров для обучающей выборки:', len(train_results))\n",
    "print('Количество турниров для тестовой выборки:',  len(test_results))"
   ]
  },
  {
   "cell_type": "code",
   "execution_count": 44,
   "id": "1828b2f2-4a17-4889-9f79-75c095b0f105",
   "metadata": {},
   "outputs": [
    {
     "name": "stdout",
     "output_type": "stream",
     "text": [
      "Число взаимодействий игроков с вопросами за весь период до 2019 г.: 94858327\n"
     ]
    },
    {
     "data": {
      "text/html": [
       "<div>\n",
       "<style scoped>\n",
       "    .dataframe tbody tr th:only-of-type {\n",
       "        vertical-align: middle;\n",
       "    }\n",
       "\n",
       "    .dataframe tbody tr th {\n",
       "        vertical-align: top;\n",
       "    }\n",
       "\n",
       "    .dataframe thead th {\n",
       "        text-align: right;\n",
       "    }\n",
       "</style>\n",
       "<table border=\"1\" class=\"dataframe\">\n",
       "  <thead>\n",
       "    <tr style=\"text-align: right;\">\n",
       "      <th></th>\n",
       "      <th>q_idx</th>\n",
       "      <th>t_idx</th>\n",
       "      <th>p_idx</th>\n",
       "      <th>ans</th>\n",
       "    </tr>\n",
       "  </thead>\n",
       "  <tbody>\n",
       "    <tr>\n",
       "      <th>0</th>\n",
       "      <td>220000</td>\n",
       "      <td>1</td>\n",
       "      <td>1560</td>\n",
       "      <td>0</td>\n",
       "    </tr>\n",
       "    <tr>\n",
       "      <th>1</th>\n",
       "      <td>220000</td>\n",
       "      <td>1</td>\n",
       "      <td>2935</td>\n",
       "      <td>0</td>\n",
       "    </tr>\n",
       "    <tr>\n",
       "      <th>2</th>\n",
       "      <td>220000</td>\n",
       "      <td>1</td>\n",
       "      <td>3270</td>\n",
       "      <td>0</td>\n",
       "    </tr>\n",
       "    <tr>\n",
       "      <th>3</th>\n",
       "      <td>220000</td>\n",
       "      <td>1</td>\n",
       "      <td>4878</td>\n",
       "      <td>0</td>\n",
       "    </tr>\n",
       "    <tr>\n",
       "      <th>4</th>\n",
       "      <td>220000</td>\n",
       "      <td>1</td>\n",
       "      <td>18935</td>\n",
       "      <td>0</td>\n",
       "    </tr>\n",
       "  </tbody>\n",
       "</table>\n",
       "</div>"
      ],
      "text/plain": [
       "    q_idx  t_idx  p_idx  ans\n",
       "0  220000      1   1560    0\n",
       "1  220000      1   2935    0\n",
       "2  220000      1   3270    0\n",
       "3  220000      1   4878    0\n",
       "4  220000      1  18935    0"
      ]
     },
     "execution_count": 44,
     "metadata": {},
     "output_type": "execute_result"
    }
   ],
   "source": [
    "df_quest_ans = create_df_quest_ans(train_results)\n",
    "df_quest_ans = pd.DataFrame.from_dict(df_quest_ans)\n",
    "print('Число взаимодействий игроков с вопросами за весь период до 2019 г.:', len(df_quest_ans))\n",
    "df_quest_ans.head()"
   ]
  },
  {
   "cell_type": "code",
   "execution_count": 45,
   "id": "a875444d-b5aa-4865-8329-0d95e797038a",
   "metadata": {},
   "outputs": [
    {
     "name": "stdout",
     "output_type": "stream",
     "text": [
      "Количество игроков за всесь период до 2019 г.: 154857\n"
     ]
    }
   ],
   "source": [
    "player_ids_train = set()\n",
    "for tourn_id, tourn_data in train_results.items():\n",
    "    for result in tourn_data:\n",
    "        for player in result['teamMembers']:\n",
    "            player_ids_train.add(player['player']['id'])\n",
    "player_ids_train = list(player_ids_train)\n",
    "num_of_players = len(player_ids_train)\n",
    "print('Количество игроков за всесь период до 2019 г.:', num_of_players)"
   ]
  },
  {
   "cell_type": "code",
   "execution_count": 55,
   "id": "5c3b0bef-ecc3-438a-aac1-ca55b9af7089",
   "metadata": {},
   "outputs": [
    {
     "name": "stdout",
     "output_type": "stream",
     "text": [
      "(23493884, 90756)\n"
     ]
    }
   ],
   "source": [
    "players_enc = OneHotEncoder()\n",
    "questions_enc = OneHotEncoder()\n",
    "X = hstack((players_enc.fit_transform(df_quest_ans['p_idx'].values.reshape(-1,1)), \n",
    "            questions_enc.fit_transform(df_quest_ans['q_idx'].values.reshape(-1,1))))\n",
    "print(X.shape)"
   ]
  },
  {
   "cell_type": "code",
   "execution_count": 56,
   "id": "dab2fe89-917a-45ea-9fc6-fd381a92ddc1",
   "metadata": {},
   "outputs": [
    {
     "data": {
      "text/plain": [
       "0.8100213655605008"
      ]
     },
     "execution_count": 56,
     "metadata": {},
     "output_type": "execute_result"
    }
   ],
   "source": [
    "clf = LogisticRegression(random_state = 42, class_weight = 'balanced', solver='liblinear')\n",
    "clf.fit(X, df_quest_ans['ans'])\n",
    "clf.score(X, df_quest_ans['ans'])"
   ]
  },
  {
   "cell_type": "code",
   "execution_count": 57,
   "id": "b6fc662e-25f5-4d95-8a55-ade3ce415289",
   "metadata": {},
   "outputs": [
    {
     "name": "stdout",
     "output_type": "stream",
     "text": [
      "Диапазон изменения рейтингов игроков: -4.357512740508855 4.200971859467587\n",
      "Диапазон изменения сложностей вопросов: -8.268099618957491 6.158931788116538\n"
     ]
    }
   ],
   "source": [
    "w0 = clf.intercept_\n",
    "p_weights = clf.coef_[0, :num_of_players]\n",
    "q_weights = clf.coef_[0, num_of_players:]\n",
    "print('Диапазон изменения рейтингов игроков:', p_weights.min(), p_weights.max())\n",
    "print('Диапазон изменения сложностей вопросов:', q_weights.min(), q_weights.max())"
   ]
  },
  {
   "cell_type": "code",
   "execution_count": 58,
   "id": "2ccd60f7-7ede-490b-93ad-d0ece395179f",
   "metadata": {},
   "outputs": [],
   "source": [
    "p_rates = pd.Series(np.zeros(num_of_players, dtype=float), index=player_ids_train)\n",
    "idx = np.asarray(players_enc.transform(p_rates.index.values.reshape(-1, 1)).argmax(axis = 1)).reshape(-1)\n",
    "p_rates[p_rates.index] = 1 / (1 + np.exp(-(w0 + p_weights[idx])))"
   ]
  },
  {
   "cell_type": "code",
   "execution_count": 59,
   "id": "576c9a84-aad1-46d6-8530-0084804e7566",
   "metadata": {},
   "outputs": [
    {
     "name": "stdout",
     "output_type": "stream",
     "text": [
      "Средняя корреляция Спирмена test: 0.7863657520246216\n",
      "Средняя корреляция Кендалла test: 0.6314653022296696\n"
     ]
    }
   ],
   "source": [
    "spearman_coef, kendall_coef = calc_corr(test_results, p_rates, calc_team_proba)\n",
    "print('Средняя корреляция Спирмена test:', spearman_coef)\n",
    "print('Средняя корреляция Кендалла test:', kendall_coef)"
   ]
  },
  {
   "cell_type": "markdown",
   "id": "e07c990c-2511-4b7f-93a1-faffc1102a8c",
   "metadata": {},
   "source": [
    "### Вывод: \n",
    "\n",
    "По сравнению с обучающей выборкой, построенный только за 2019 г., метрики стали чуть поменьше. Это по-видимому объясняется эффектом сглаживания результатов за счет большей статистики игр."
   ]
  }
 ],
 "metadata": {
  "kernelspec": {
   "display_name": "Python 3 (ipykernel)",
   "language": "python",
   "name": "python3"
  },
  "language_info": {
   "codemirror_mode": {
    "name": "ipython",
    "version": 3
   },
   "file_extension": ".py",
   "mimetype": "text/x-python",
   "name": "python",
   "nbconvert_exporter": "python",
   "pygments_lexer": "ipython3",
   "version": "3.8.15"
  }
 },
 "nbformat": 4,
 "nbformat_minor": 5
}
